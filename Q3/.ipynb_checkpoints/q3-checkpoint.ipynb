{
 "cells": [
  {
   "cell_type": "code",
   "execution_count": 21,
   "id": "97f1d392",
   "metadata": {
    "scrolled": true
   },
   "outputs": [
    {
     "name": "stdout",
     "output_type": "stream",
     "text": [
      "        unit price  number\n",
      "store1        1000      25\n",
      "store2         280     120\n",
      "store3         900      30\n",
      "\n",
      "        unit price  number  total price\n",
      "store1        1000      25        25000\n",
      "store2         280     120        33600\n",
      "store3         900      30        27000\n",
      "\n",
      "1번째 비싼 store : store2\n",
      "unit price : 280\n",
      "number : 120\n",
      "total price : 33600\n",
      "2번째 비싼 store : store3\n",
      "unit price : 900\n",
      "number : 30\n",
      "total price : 27000\n"
     ]
    }
   ],
   "source": [
    "import pandas as pd\n",
    "\n",
    "if __name__ == '__main__':\n",
    "    data = {'store1' : [1000, 25], 'store2' : [280, 120], 'store3' : [900, 30]}\n",
    "\n",
    "    df = pd.DataFrame(data.values(), index = [\"store1\", \"store2\", \"store3\"], columns=['unit price','number'])\n",
    "    print(df)\n",
    "    print()\n",
    "\n",
    "    for k, v in data.items():\n",
    "        v.append(v[0] * v[1])\n",
    "    df = pd.DataFrame(data.values(), index = [\"store1\", \"store2\", \"store3\"], columns=['unit price','number', 'total price'])\n",
    "    print(df)\n",
    "    print()\n",
    "\n",
    "    data = sorted(data.items(), key = lambda x:x[1][2], reverse = True)\n",
    "    for i in range(2):\n",
    "        k, v = data[i]\n",
    "        print(f\"{i+1}번째 비싼 store : {k}\")\n",
    "        print(f\"unit price : {v[0]}\")\n",
    "        print(f\"number : {v[1]}\")\n",
    "        print(f\"total price : {v[2]}\")"
   ]
  },
  {
   "cell_type": "code",
   "execution_count": null,
   "id": "0701e3dc",
   "metadata": {},
   "outputs": [],
   "source": []
  }
 ],
 "metadata": {
  "kernelspec": {
   "display_name": "Python 3 (ipykernel)",
   "language": "python",
   "name": "python3"
  },
  "language_info": {
   "codemirror_mode": {
    "name": "ipython",
    "version": 3
   },
   "file_extension": ".py",
   "mimetype": "text/x-python",
   "name": "python",
   "nbconvert_exporter": "python",
   "pygments_lexer": "ipython3",
   "version": "3.9.6"
  }
 },
 "nbformat": 4,
 "nbformat_minor": 5
}
