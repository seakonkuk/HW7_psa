{
 "cells": [
  {
   "cell_type": "code",
   "execution_count": 25,
   "id": "af0ebb6a",
   "metadata": {},
   "outputs": [
    {
     "name": "stdout",
     "output_type": "stream",
     "text": [
      "         Total        Male      Female\n",
      "0   51,439,038  25,636,951  25,802,087\n",
      "1    9,428,372   4,570,048   4,858,324\n",
      "2    3,317,812   1,619,915   1,697,897\n",
      "3    2,363,691   1,162,865   1,200,826\n",
      "4    2,967,314   1,485,175   1,482,139\n",
      "5    1,431,050     707,299     723,751\n",
      "6    1,446,072     721,245     724,827\n",
      "7    1,110,663     570,368     540,295\n",
      "8      383,591     191,389     192,202\n",
      "9   13,589,432   6,839,276   6,750,156\n",
      "10   1,536,498     772,947     763,551\n",
      "11   1,595,058     810,782     784,276\n",
      "12   2,123,037   1,086,632   1,036,405\n",
      "13   1,769,607     880,592     889,015\n",
      "14   1,817,697     915,272     902,425\n",
      "15   2,600,492   1,311,881   1,288,611\n",
      "16   3,280,493   1,651,675   1,628,818\n",
      "17     678,159     339,590     338,569\n"
     ]
    }
   ],
   "source": [
    "# 총 : 1 (51,439,038) | 남총 : 6 (25,636,951) | 여총 : 11 (25,802,087) | \n",
    "import pandas as pd\n",
    "\n",
    "if __name__ == '__main__':\n",
    "    f = pd.read_csv('gender2.csv', encoding = 'cp949')\n",
    "    \n",
    "    df.rename(columns={\"2022년_계_총인구수\":\"Total\", \"2022년_남_총인구수\" : \"Male\", \"2022년_여_총인구수\" : \"Female\"},inplace=True)\n",
    "    \n",
    "    print(df)\n",
    "    "
   ]
  },
  {
   "cell_type": "code",
   "execution_count": null,
   "id": "83a5f70f",
   "metadata": {},
   "outputs": [],
   "source": []
  }
 ],
 "metadata": {
  "kernelspec": {
   "display_name": "Python 3 (ipykernel)",
   "language": "python",
   "name": "python3"
  },
  "language_info": {
   "codemirror_mode": {
    "name": "ipython",
    "version": 3
   },
   "file_extension": ".py",
   "mimetype": "text/x-python",
   "name": "python",
   "nbconvert_exporter": "python",
   "pygments_lexer": "ipython3",
   "version": "3.9.6"
  }
 },
 "nbformat": 4,
 "nbformat_minor": 5
}
