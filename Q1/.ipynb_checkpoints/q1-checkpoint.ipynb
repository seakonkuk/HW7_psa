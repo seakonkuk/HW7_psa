{
 "cells": [
  {
   "cell_type": "code",
   "execution_count": 7,
   "id": "d0b18f60",
   "metadata": {
    "scrolled": true
   },
   "outputs": [
    {
     "name": "stdout",
     "output_type": "stream",
     "text": [
      "Eigenvalues : [-0.37228132  5.37228132]\n",
      "Eigenvectors : [[-0.82456484 -0.41597356]\n",
      " [ 0.56576746 -0.90937671]]\n",
      "Determinant : -2.0000000000000004\n",
      "Cross product : [-3  6 -3]\n",
      "Solution: [-1. -4.  3.]\n"
     ]
    }
   ],
   "source": [
    "import numpy as np\n",
    "\n",
    "if __name__ == '__main__':\n",
    "    arr = np.array([[1,2], [3,4]])\n",
    "\n",
    "    w,v = np.linalg.eig(arr)\n",
    "\n",
    "    det = np.linalg.det(arr)\n",
    "\n",
    "    vec1 = [1, 2, 3] \n",
    "    vec2 = [4, 5, 6]\n",
    "\n",
    "    cross = np.cross(vec1, vec2)\n",
    "\n",
    "    A = np.array([[1,2,-2], [2,1,-5], [1,-4,1]])\n",
    "    b = np.array([-15, -21, 18]).transpose()\n",
    "    sol = np.linalg.solve(A, b)\n",
    "\n",
    "\n",
    "    print(f\"Eigenvalues : {w}\")\n",
    "    print(f\"Eigenvectors : {v}\")\n",
    "    print(f\"Determinant : {det}\")\n",
    "    print(f\"Cross product : {cross}\")\n",
    "    print(f\"Solution: {sol}\")"
   ]
  },
  {
   "cell_type": "code",
   "execution_count": null,
   "id": "357e9617",
   "metadata": {},
   "outputs": [],
   "source": []
  }
 ],
 "metadata": {
  "kernelspec": {
   "display_name": "Python 3 (ipykernel)",
   "language": "python",
   "name": "python3"
  },
  "language_info": {
   "codemirror_mode": {
    "name": "ipython",
    "version": 3
   },
   "file_extension": ".py",
   "mimetype": "text/x-python",
   "name": "python",
   "nbconvert_exporter": "python",
   "pygments_lexer": "ipython3",
   "version": "3.9.6"
  }
 },
 "nbformat": 4,
 "nbformat_minor": 5
}
